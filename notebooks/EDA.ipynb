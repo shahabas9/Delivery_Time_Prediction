{
 "cells": [
  {
   "cell_type": "code",
   "execution_count": 1,
   "metadata": {},
   "outputs": [],
   "source": [
    "import pandas as pd \n",
    "import numpy as np\n",
    "from datetime import datetime, timedelta\n",
    "# from pandas_profiling import ProfileReport"
   ]
  },
  {
   "cell_type": "code",
   "execution_count": 2,
   "metadata": {},
   "outputs": [],
   "source": [
    "data = pd.read_csv(\"data/deliverytime.csv\")\n"
   ]
  },
  {
   "cell_type": "code",
   "execution_count": 20,
   "metadata": {},
   "outputs": [],
   "source": [
    "import math\n",
    "\n",
    "def calculate_distance(lat1, lon1, lat2, lon2):\n",
    "    # Convert decimal degrees to radians\n",
    "    lon1, lat1, lon2, lat2 = map(math.radians, [lon1, lat1, lon2, lat2])\n",
    "\n",
    "    # Haversine formula\n",
    "    dlon = lon2 - lon1\n",
    "    dlat = lat2 - lat1\n",
    "    a = math.sin(dlat/2)**2 + math.cos(lat1) * math.cos(lat2) * math.sin(dlon/2)**2\n",
    "    c = 2 * math.atan2(math.sqrt(a), math.sqrt(1-a))\n",
    "    radius_of_earth = 6371  # in kilometers\n",
    "    distance = radius_of_earth * c\n",
    "\n",
    "    return round(distance,2)"
   ]
  },
  {
   "cell_type": "code",
   "execution_count": 22,
   "metadata": {},
   "outputs": [],
   "source": [
    "data['distace']=data.apply(lambda row: calculate_distance(row['Restaurant_latitude'],\n",
    "                                                             row['Restaurant_longitude'],\n",
    "                                                             row['Delivery_location_latitude'],\n",
    "                                                             row['Delivery_location_longitude']), axis=1)"
   ]
  },
  {
   "cell_type": "code",
   "execution_count": null,
   "metadata": {},
   "outputs": [],
   "source": [
    "\n",
    "data['Time_Orderd']=pd.DatetimeIndex(data[\"Order_Date\"])\n",
    "# data['orderd_hour'] = pd.to_datetime(data['Time_Orderd'], format='%H:%M').dt.hour\n",
    "\n",
    "data.info()"
   ]
  },
  {
   "cell_type": "code",
   "execution_count": null,
   "metadata": {},
   "outputs": [],
   "source": [
    "def convert_datetime(data,col_name):\n",
    "    return pd.DatetimeIndex(data[col_name])\n",
    "    "
   ]
  },
  {
   "cell_type": "code",
   "execution_count": null,
   "metadata": {},
   "outputs": [],
   "source": [
    "convert_datetime(data,\"Order_Date\")"
   ]
  },
  {
   "cell_type": "code",
   "execution_count": 6,
   "metadata": {},
   "outputs": [
    {
     "data": {
      "text/plain": [
       "0        46\n",
       "1        23\n",
       "2        21\n",
       "3        20\n",
       "4        41\n",
       "         ..\n",
       "45579    32\n",
       "45580    36\n",
       "45581    16\n",
       "45582    26\n",
       "45583    36\n",
       "Name: Time_taken (min), Length: 45584, dtype: int64"
      ]
     },
     "execution_count": 6,
     "metadata": {},
     "output_type": "execute_result"
    }
   ],
   "source": [
    "data['Time_taken (min)']% 60"
   ]
  },
  {
   "cell_type": "code",
   "execution_count": null,
   "metadata": {},
   "outputs": [],
   "source": [
    "data[\"Order_Date\"]=pd.to_datetime(data[\"Order_Date\"],infer_datetime_format=True)"
   ]
  },
  {
   "cell_type": "code",
   "execution_count": null,
   "metadata": {},
   "outputs": [],
   "source": [
    "data[\"Ordered_Year\"]=data[\"Order_Date\"].dt.year\n",
    "data[\"Ordered_Month\"]=data[\"Order_Date\"].dt.month\n",
    "data[\"Ordered_Day\"]=data[\"Order_Date\"].dt.day \n"
   ]
  },
  {
   "cell_type": "code",
   "execution_count": null,
   "metadata": {},
   "outputs": [],
   "source": [
    "data=data.drop(columns=\"Order_Date\",axis=1)"
   ]
  },
  {
   "cell_type": "code",
   "execution_count": null,
   "metadata": {},
   "outputs": [],
   "source": [
    "data[\"Time_Orderd\"]=data[\"Time_Orderd\"].astype('str')\n",
    "data[\"Time_Orderd\"]=data[\"Time_Orderd\"].apply(lambda x : x[0] if \".\" in x else x)\n",
    "data[\"Time_Orderd\"]=data[\"Time_Orderd\"].apply(lambda x :'0'+x+\":00\" if x=='1' else x)\n",
    "data[\"Time_Orderd\"]=data[\"Time_Orderd\"].apply(lambda x :'01'+x[2:5] if x[0:2]=='24' else x)\n",
    "data[\"Time_Orderd\"]=data[\"Time_Orderd\"].apply(lambda x :'0' if x=='nan'else x)\n",
    "data[\"Time_Orderd\"]=data[\"Time_Orderd\"].apply(lambda x :'00:00' if x=='0'else x)\n",
    "data['Time_Orderd'] = np.where(data['Time_Orderd'] == '00:00', data.apply(subtract_time, axis=1), data['Time_Orderd'])\n",
    "\n",
    "\n",
    "data[\"Time_Order_picked\"]=data[\"Time_Order_picked\"].astype('str')\n",
    "data[\"Time_Order_picked\"]=data[\"Time_Order_picked\"].apply(lambda x : x[0] if \".\" in x else x)\n",
    "data[\"Time_Order_picked\"]=data[\"Time_Order_picked\"].apply(lambda x :'0'+x+\":00\" if x=='1' else x)\n",
    "data[\"Time_Order_picked\"]=data[\"Time_Order_picked\"].apply(lambda x :'01'+ x[2:5] if x[0:2]=='24' else x)\n",
    "data[\"Time_Order_picked\"]=data[\"Time_Order_picked\"].apply(lambda x :'0' if x=='nan'else x)\n",
    "data[\"Time_Order_picked\"]=data[\"Time_Order_picked\"].apply(lambda x :'00:00' if x=='0'else x)\n",
    "data['Time_Order_picked'] = np.where(data['Time_Order_picked'] == '00:00', data.apply(add_time, axis=1), data['Time_Order_picked'])\n",
    "\n"
   ]
  },
  {
   "cell_type": "code",
   "execution_count": null,
   "metadata": {},
   "outputs": [],
   "source": []
  },
  {
   "cell_type": "code",
   "execution_count": null,
   "metadata": {},
   "outputs": [],
   "source": [
    "def subtract_time(row):\n",
    "    if row['Time_Orderd'] == '00:00':\n",
    "        pickup_time = datetime.strptime(row['Time_Order_picked'], \"%H:%M\")\n",
    "        time_diff = timedelta(hours=0, minutes=15)\n",
    "        updated_time = pickup_time - time_diff\n",
    "        return updated_time.strftime(\"%H:%M\")\n",
    "    else:\n",
    "        return row['Time_Orderd']\n"
   ]
  },
  {
   "cell_type": "code",
   "execution_count": null,
   "metadata": {},
   "outputs": [],
   "source": [
    "def add_time(row):\n",
    "    if row['Time_Order_picked'] == '00:00':\n",
    "        orderd_time = datetime.strptime(row['Time_Orderd'], \"%H:%M\")\n",
    "        time_diff = timedelta(hours=0, minutes=15)\n",
    "        updated_time = orderd_time + time_diff\n",
    "        return updated_time.strftime(\"%H:%M\")\n",
    "    else:\n",
    "        return row['Time_Order_picked']"
   ]
  },
  {
   "cell_type": "code",
   "execution_count": null,
   "metadata": {},
   "outputs": [],
   "source": []
  },
  {
   "cell_type": "code",
   "execution_count": null,
   "metadata": {},
   "outputs": [],
   "source": [
    "data.info()"
   ]
  },
  {
   "cell_type": "code",
   "execution_count": null,
   "metadata": {},
   "outputs": [],
   "source": [
    "data['Delivery_person_Age']=data['Delivery_person_Age'].astype('int')"
   ]
  },
  {
   "cell_type": "code",
   "execution_count": null,
   "metadata": {},
   "outputs": [],
   "source": [
    "data[data['Delivery_person_Ratings'].isnull()]"
   ]
  },
  {
   "cell_type": "code",
   "execution_count": null,
   "metadata": {},
   "outputs": [],
   "source": [
    "data[\"orderd_hour\"]=data[\"Time_Orderd\"].apply(lambda x : x[0:2])"
   ]
  },
  {
   "cell_type": "code",
   "execution_count": null,
   "metadata": {},
   "outputs": [],
   "source": [
    "data[\"orderd_minute\"]=data[\"Time_Orderd\"].apply(lambda x : x[3:])"
   ]
  },
  {
   "cell_type": "code",
   "execution_count": null,
   "metadata": {},
   "outputs": [],
   "source": [
    "data=data.drop(columns=\"Time_Orderd\",axis=1)"
   ]
  },
  {
   "cell_type": "code",
   "execution_count": null,
   "metadata": {},
   "outputs": [],
   "source": [
    "data[\"orderd_picked_hour\"]=data[\"Time_Order_picked\"].apply(lambda x : x[0:2])\n",
    "data[\"orderd_picked_minute\"]=data[\"Time_Order_picked\"].apply(lambda x : x[3:])"
   ]
  },
  {
   "cell_type": "code",
   "execution_count": null,
   "metadata": {},
   "outputs": [],
   "source": [
    "data=data.drop(columns=\"Time_Order_picked\",axis=1)"
   ]
  },
  {
   "cell_type": "code",
   "execution_count": 7,
   "metadata": {},
   "outputs": [
    {
     "data": {
      "text/html": [
       "<div>\n",
       "<style scoped>\n",
       "    .dataframe tbody tr th:only-of-type {\n",
       "        vertical-align: middle;\n",
       "    }\n",
       "\n",
       "    .dataframe tbody tr th {\n",
       "        vertical-align: top;\n",
       "    }\n",
       "\n",
       "    .dataframe thead th {\n",
       "        text-align: right;\n",
       "    }\n",
       "</style>\n",
       "<table border=\"1\" class=\"dataframe\">\n",
       "  <thead>\n",
       "    <tr style=\"text-align: right;\">\n",
       "      <th></th>\n",
       "      <th>ID</th>\n",
       "      <th>Delivery_person_ID</th>\n",
       "      <th>Delivery_person_Age</th>\n",
       "      <th>Delivery_person_Ratings</th>\n",
       "      <th>Restaurant_latitude</th>\n",
       "      <th>Restaurant_longitude</th>\n",
       "      <th>Delivery_location_latitude</th>\n",
       "      <th>Delivery_location_longitude</th>\n",
       "      <th>Order_Date</th>\n",
       "      <th>Time_Orderd</th>\n",
       "      <th>Time_Order_picked</th>\n",
       "      <th>Weather_conditions</th>\n",
       "      <th>Road_traffic_density</th>\n",
       "      <th>Vehicle_condition</th>\n",
       "      <th>Type_of_order</th>\n",
       "      <th>Type_of_vehicle</th>\n",
       "      <th>multiple_deliveries</th>\n",
       "      <th>Festival</th>\n",
       "      <th>City</th>\n",
       "      <th>Time_taken (min)</th>\n",
       "    </tr>\n",
       "  </thead>\n",
       "  <tbody>\n",
       "    <tr>\n",
       "      <th>0</th>\n",
       "      <td>0xcdcd</td>\n",
       "      <td>DEHRES17DEL01</td>\n",
       "      <td>36.0</td>\n",
       "      <td>4.2</td>\n",
       "      <td>30.327968</td>\n",
       "      <td>78.046106</td>\n",
       "      <td>30.397968</td>\n",
       "      <td>78.116106</td>\n",
       "      <td>12-02-2022</td>\n",
       "      <td>21:55</td>\n",
       "      <td>22:10</td>\n",
       "      <td>Fog</td>\n",
       "      <td>Jam</td>\n",
       "      <td>2</td>\n",
       "      <td>Snack</td>\n",
       "      <td>motorcycle</td>\n",
       "      <td>3.0</td>\n",
       "      <td>No</td>\n",
       "      <td>Metropolitian</td>\n",
       "      <td>46</td>\n",
       "    </tr>\n",
       "    <tr>\n",
       "      <th>1</th>\n",
       "      <td>0xd987</td>\n",
       "      <td>KOCRES16DEL01</td>\n",
       "      <td>21.0</td>\n",
       "      <td>4.7</td>\n",
       "      <td>10.003064</td>\n",
       "      <td>76.307589</td>\n",
       "      <td>10.043064</td>\n",
       "      <td>76.347589</td>\n",
       "      <td>13-02-2022</td>\n",
       "      <td>14:55</td>\n",
       "      <td>15:05</td>\n",
       "      <td>Stormy</td>\n",
       "      <td>High</td>\n",
       "      <td>1</td>\n",
       "      <td>Meal</td>\n",
       "      <td>motorcycle</td>\n",
       "      <td>1.0</td>\n",
       "      <td>No</td>\n",
       "      <td>Metropolitian</td>\n",
       "      <td>23</td>\n",
       "    </tr>\n",
       "    <tr>\n",
       "      <th>2</th>\n",
       "      <td>0x2784</td>\n",
       "      <td>PUNERES13DEL03</td>\n",
       "      <td>23.0</td>\n",
       "      <td>4.7</td>\n",
       "      <td>18.562450</td>\n",
       "      <td>73.916619</td>\n",
       "      <td>18.652450</td>\n",
       "      <td>74.006619</td>\n",
       "      <td>04-03-2022</td>\n",
       "      <td>17:30</td>\n",
       "      <td>17:40</td>\n",
       "      <td>Sandstorms</td>\n",
       "      <td>Medium</td>\n",
       "      <td>1</td>\n",
       "      <td>Drinks</td>\n",
       "      <td>scooter</td>\n",
       "      <td>1.0</td>\n",
       "      <td>No</td>\n",
       "      <td>Metropolitian</td>\n",
       "      <td>21</td>\n",
       "    </tr>\n",
       "    <tr>\n",
       "      <th>3</th>\n",
       "      <td>0xc8b6</td>\n",
       "      <td>LUDHRES15DEL02</td>\n",
       "      <td>34.0</td>\n",
       "      <td>4.3</td>\n",
       "      <td>30.899584</td>\n",
       "      <td>75.809346</td>\n",
       "      <td>30.919584</td>\n",
       "      <td>75.829346</td>\n",
       "      <td>13-02-2022</td>\n",
       "      <td>09:20</td>\n",
       "      <td>09:30</td>\n",
       "      <td>Sandstorms</td>\n",
       "      <td>Low</td>\n",
       "      <td>0</td>\n",
       "      <td>Buffet</td>\n",
       "      <td>motorcycle</td>\n",
       "      <td>0.0</td>\n",
       "      <td>No</td>\n",
       "      <td>Metropolitian</td>\n",
       "      <td>20</td>\n",
       "    </tr>\n",
       "    <tr>\n",
       "      <th>4</th>\n",
       "      <td>0xdb64</td>\n",
       "      <td>KNPRES14DEL02</td>\n",
       "      <td>24.0</td>\n",
       "      <td>4.7</td>\n",
       "      <td>26.463504</td>\n",
       "      <td>80.372929</td>\n",
       "      <td>26.593504</td>\n",
       "      <td>80.502929</td>\n",
       "      <td>14-02-2022</td>\n",
       "      <td>19:50</td>\n",
       "      <td>20:05</td>\n",
       "      <td>Fog</td>\n",
       "      <td>Jam</td>\n",
       "      <td>1</td>\n",
       "      <td>Snack</td>\n",
       "      <td>scooter</td>\n",
       "      <td>1.0</td>\n",
       "      <td>No</td>\n",
       "      <td>Metropolitian</td>\n",
       "      <td>41</td>\n",
       "    </tr>\n",
       "  </tbody>\n",
       "</table>\n",
       "</div>"
      ],
      "text/plain": [
       "       ID Delivery_person_ID  Delivery_person_Age  Delivery_person_Ratings  \\\n",
       "0  0xcdcd      DEHRES17DEL01                 36.0                      4.2   \n",
       "1  0xd987      KOCRES16DEL01                 21.0                      4.7   \n",
       "2  0x2784     PUNERES13DEL03                 23.0                      4.7   \n",
       "3  0xc8b6     LUDHRES15DEL02                 34.0                      4.3   \n",
       "4  0xdb64      KNPRES14DEL02                 24.0                      4.7   \n",
       "\n",
       "   Restaurant_latitude  Restaurant_longitude  Delivery_location_latitude  \\\n",
       "0            30.327968             78.046106                   30.397968   \n",
       "1            10.003064             76.307589                   10.043064   \n",
       "2            18.562450             73.916619                   18.652450   \n",
       "3            30.899584             75.809346                   30.919584   \n",
       "4            26.463504             80.372929                   26.593504   \n",
       "\n",
       "   Delivery_location_longitude  Order_Date Time_Orderd Time_Order_picked  \\\n",
       "0                    78.116106  12-02-2022       21:55             22:10   \n",
       "1                    76.347589  13-02-2022       14:55             15:05   \n",
       "2                    74.006619  04-03-2022       17:30             17:40   \n",
       "3                    75.829346  13-02-2022       09:20             09:30   \n",
       "4                    80.502929  14-02-2022       19:50             20:05   \n",
       "\n",
       "  Weather_conditions Road_traffic_density  Vehicle_condition Type_of_order  \\\n",
       "0                Fog                  Jam                  2         Snack   \n",
       "1             Stormy                 High                  1          Meal   \n",
       "2         Sandstorms               Medium                  1        Drinks   \n",
       "3         Sandstorms                  Low                  0        Buffet   \n",
       "4                Fog                  Jam                  1         Snack   \n",
       "\n",
       "  Type_of_vehicle  multiple_deliveries Festival           City  \\\n",
       "0      motorcycle                  3.0       No  Metropolitian   \n",
       "1      motorcycle                  1.0       No  Metropolitian   \n",
       "2         scooter                  1.0       No  Metropolitian   \n",
       "3      motorcycle                  0.0       No  Metropolitian   \n",
       "4         scooter                  1.0       No  Metropolitian   \n",
       "\n",
       "   Time_taken (min)  \n",
       "0                46  \n",
       "1                23  \n",
       "2                21  \n",
       "3                20  \n",
       "4                41  "
      ]
     },
     "execution_count": 7,
     "metadata": {},
     "output_type": "execute_result"
    }
   ],
   "source": [
    "data.head()"
   ]
  },
  {
   "cell_type": "code",
   "execution_count": null,
   "metadata": {},
   "outputs": [],
   "source": [
    "data[\"orderd_hour\"]=data[\"orderd_hour\"].astype(int)\n",
    "data[\"orderd_minute\"]=data[\"orderd_minute\"].astype(int)\n",
    "data[\"orderd_picked_hour\"]=data[\"orderd_picked_hour\"].astype(int)\n",
    "data[\"orderd_picked_minute\"]=data[\"orderd_picked_minute\"].astype(int)"
   ]
  },
  {
   "cell_type": "code",
   "execution_count": null,
   "metadata": {},
   "outputs": [],
   "source": [
    "data.info()"
   ]
  },
  {
   "cell_type": "code",
   "execution_count": null,
   "metadata": {},
   "outputs": [],
   "source": [
    "numerical=[]\n",
    "categorical=[]\n",
    "for i in data.columns:\n",
    "    if data[i].dtype==\"object\":\n",
    "        categorical.append(i)\n",
    "    else:\n",
    "        numerical.append(i)"
   ]
  },
  {
   "cell_type": "code",
   "execution_count": null,
   "metadata": {},
   "outputs": [],
   "source": [
    "numerical"
   ]
  },
  {
   "cell_type": "code",
   "execution_count": null,
   "metadata": {},
   "outputs": [],
   "source": [
    "categorical"
   ]
  },
  {
   "cell_type": "code",
   "execution_count": null,
   "metadata": {},
   "outputs": [],
   "source": [
    "from sklearn.ensemble import RandomForestRegressor, GradientBoostingRegressor\n",
    "from sklearn.datasets import make_regression\n",
    "from sklearn.model_selection import train_test_split\n",
    "from sklearn.metrics import mean_squared_error\n",
    "\n",
    "# Generate a regression dataset\n",
    "X, y = make_regression(n_samples=1000, n_features=10, random_state=42)\n",
    "\n",
    "# Split the data into training and testing sets\n",
    "X_train, X_test, y_train, y_test = train_test_split(X, y, test_size=0.2, random_state=42)\n",
    "\n",
    "# Create Random Forest and Gradient Boosting models\n",
    "rf_model = RandomForestRegressor(n_estimators=100)\n",
    "gb_model = GradientBoostingRegressor(n_estimators=100)\n",
    "\n",
    "# Fit the models on the training data\n",
    "rf_model.fit(X_train, y_train)\n",
    "gb_model.fit(X_train, y_train)\n",
    "\n",
    "# Make predictions using the ensemble method\n",
    "rf_predictions = rf_model.predict(X_test)\n",
    "gb_predictions = gb_model.predict(X_test)\n",
    "\n",
    "# Combine the predictions using averaging\n",
    "ensemble_predictions = (rf_predictions + gb_predictions) / 2\n",
    "\n",
    "# Calculate the mean squared error for each model and the ensemble\n",
    "rf_mse = mean_squared_error(y_test, rf_predictions)\n",
    "gb_mse = mean_squared_error(y_test, gb_predictions)\n",
    "ensemble_mse = mean_squared_error(y_test, ensemble_predictions)\n",
    "\n",
    "print(\"Random Forest MSE:\", rf_mse)\n",
    "print(\"Gradient Boosting MSE:\", gb_mse)\n",
    "print(\"Ensemble MSE:\", ensemble_mse)\n"
   ]
  }
 ],
 "metadata": {
  "kernelspec": {
   "display_name": "Python 3 (ipykernel)",
   "language": "python",
   "name": "python3"
  },
  "language_info": {
   "codemirror_mode": {
    "name": "ipython",
    "version": 3
   },
   "file_extension": ".py",
   "mimetype": "text/x-python",
   "name": "python",
   "nbconvert_exporter": "python",
   "pygments_lexer": "ipython3",
   "version": "3.8.0"
  }
 },
 "nbformat": 4,
 "nbformat_minor": 2
}
